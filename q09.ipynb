{
 "cells": [
  {
   "cell_type": "code",
   "execution_count": 1,
   "metadata": {},
   "outputs": [
    {
     "name": "stdout",
     "output_type": "stream",
     "text": [
      "(a) Estimativa da inflação em abril: 2.90%\n",
      "(b) Erro da estimativa em abril: 1.47%\n",
      "(c) Inflação semestral: 7.84%\n",
      "A inflação semestral foi maior ou igual a 6%.\n",
      "(d) Estimativa da inflação em julho: -4.81%\n"
     ]
    }
   ],
   "source": [
    "import numpy as np\n",
    "\n",
    "def lagrange(X, Y, x):\n",
    "  soma = 0\n",
    "\n",
    "  for i in range(len(X)):\n",
    "    produto = 1\n",
    "    for j in range(len(Y)):\n",
    "      if j == i: continue\n",
    "      produto *= (x - X[j])/(X[i] - X[j])\n",
    "\n",
    "    soma += Y[i] * produto\n",
    "  \n",
    "  return soma\n",
    "  \n",
    "# Dados da tabela\n",
    "bimestres = [1, 2, 3, 5, 6]  # Janeiro, Fevereiro, Março, Maio, Junho\n",
    "inflacao = [0.75, 0.64, 0.24, 2.94, 0.37]\n",
    "abril = 4\n",
    "\n",
    "# (a) \n",
    "inflacao_abril = lagrange(bimestres[2:5], inflacao[2:5], abril)\n",
    "print(f\"(a) Estimativa da inflação em abril: {inflacao_abril:.2f}%\")\n",
    "\n",
    "# (b) \n",
    "inflacao_abril_grau_4 = lagrange(bimestres, inflacao, abril)\n",
    "erro_estimativa = abs(inflacao_abril_grau_4 - inflacao_abril)\n",
    "print(f\"(b) Erro da estimativa em abril: {erro_estimativa:.2f}%\")\n",
    "\n",
    "# (c) \n",
    "inflacao_semestral = np.sum(inflacao) + inflacao_abril\n",
    "print(f\"(c) Inflação semestral: {inflacao_semestral:.2f}%\")\n",
    "if inflacao_semestral < 6:\n",
    "    print(\"A inflação semestral foi menor que 6%.\")\n",
    "else:\n",
    "    print(\"A inflação semestral foi maior ou igual a 6%.\")\n",
    "\n",
    "# (d) \n",
    "julho = 7\n",
    "inflacao_julho = lagrange(bimestres[2:5], inflacao[2:5], julho)\n",
    "print(f\"(d) Estimativa da inflação em julho: {inflacao_julho:.2f}%\")\n"
   ]
  }
 ],
 "metadata": {
  "kernelspec": {
   "display_name": "Python 3",
   "language": "python",
   "name": "python3"
  },
  "language_info": {
   "codemirror_mode": {
    "name": "ipython",
    "version": 3
   },
   "file_extension": ".py",
   "mimetype": "text/x-python",
   "name": "python",
   "nbconvert_exporter": "python",
   "pygments_lexer": "ipython3",
   "version": "3.12.4"
  }
 },
 "nbformat": 4,
 "nbformat_minor": 2
}
