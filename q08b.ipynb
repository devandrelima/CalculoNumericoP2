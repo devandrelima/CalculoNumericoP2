{
 "cells": [
  {
   "cell_type": "code",
   "execution_count": 2,
   "metadata": {},
   "outputs": [
    {
     "name": "stdout",
     "output_type": "stream",
     "text": [
      "Limitante do erro:  0.01226626509855471\n"
     ]
    }
   ],
   "source": [
    "import csv\n",
    "import math\n",
    "\n",
    "T = []\n",
    "\n",
    "# Coloca os dados do .csv na matriz T\n",
    "with open('pontosQ8b.csv', newline='') as csvfile:\n",
    "    spamreader = csv.reader(csvfile, delimiter=' ', quotechar='|')\n",
    "\n",
    "    pulaLinha1 = True\n",
    "\n",
    "    for row in spamreader:\n",
    "\n",
    "        # Pula a linha que tem as letras 'x' e 'y'\n",
    "        if pulaLinha1:\n",
    "            pulaLinha1 = False\n",
    "            continue\n",
    "\n",
    "        result = row[0].split(',')\n",
    "        T.append((float(result[0]), float(result[1])))\n",
    "\n",
    "# função para calcular o limitante (é especifica para função da questão)\n",
    "def calc_limitante(x, T):\n",
    "\n",
    "    # A formula do limitante é E_n(x) = (f^(n+1)(ξ))/(n+1)! * ((|x-x_0|) * ... * (|x-x_n|))\n",
    "    # E_n(x) = derivada_n+1(ξ)/(n+1)! * produtorio(x - x_i), i = 0 .. n\n",
    "\n",
    "    ξ = max(T)[0] # ξ recebe o valor do maior ponto no intervalo\n",
    "\n",
    "    derivada = math.exp(ξ) # A função é e^ξ, logo a derivada em qualquer grau sempre será e^ξ.\n",
    "\n",
    "    # ξ é definido com o valor do maior ponto no intervalo para garantir que a derivada tenha seu valor máximo, visto que a função é e^ξ e suas derivadas são ela mesma.\n",
    "\n",
    "    fatorial = math.factorial(len(T)) # fatorial de n+1, em que n é o grau do polinômio (na questão n=2 para polinômio de grau 2, sendo n+1 = 3 a quantidade de pontos)\n",
    "\n",
    "    produtorio = 1 # inicializando variavel\n",
    "\n",
    "    for i in range(len(T)):\n",
    "        produtorio *= (x - T[i][0]) # cálculo do produtorio (x - x_i), i = 0 .. n\n",
    "\n",
    "    return (derivada/fatorial)*abs(produtorio) # cálculo do limitante com a formula\n",
    "\n",
    "x_alvo = 3.1 # ponto alvo\n",
    "\n",
    "limitante = calc_limitante(x_alvo, T) # limitante do erro no ponto alvo\n",
    "\n",
    "print(\"Limitante do erro: \", limitante) # resposta final"
   ]
  }
 ],
 "metadata": {
  "kernelspec": {
   "display_name": "Python 3",
   "language": "python",
   "name": "python3"
  },
  "language_info": {
   "codemirror_mode": {
    "name": "ipython",
    "version": 3
   },
   "file_extension": ".py",
   "mimetype": "text/x-python",
   "name": "python",
   "nbconvert_exporter": "python",
   "pygments_lexer": "ipython3",
   "version": "3.12.4"
  }
 },
 "nbformat": 4,
 "nbformat_minor": 2
}
