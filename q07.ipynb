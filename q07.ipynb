{
 "cells": [
  {
   "cell_type": "code",
   "execution_count": 1,
   "metadata": {},
   "outputs": [
    {
     "name": "stdout",
     "output_type": "stream",
     "text": [
      "[(1.0, 3.0), (2.0, 6.0), (3.0, 19.0), (5.0, 99.0), (7.0, 291.0), (8.0, 444.0)]\n"
     ]
    },
    {
     "data": {
      "image/png": "[encoded data removed]",
      "text/plain": [
       "<Figure size 400x400 with 1 Axes>"
      ]
     },
     "metadata": {},
     "output_type": "display_data"
    }
   ],
   "source": [
    "import csv\n",
    "import numpy as np\n",
    "import matplotlib.pyplot as plt\n",
    "\n",
    "# avalia o polinomio interpolador usando polinomios de Lagrange\n",
    "def interpolL(x,T):\n",
    "    Soma=0\n",
    "    for i in range(len(T)):\n",
    "        produto=1.0\n",
    "        \n",
    "        for j in range(len(T)):\n",
    "            if j==i: continue\n",
    "            produto=produto*(x-T[j][0])/(T[i][0]-T[j][0])\n",
    "        \n",
    "        Soma=Soma+T[i][1]*produto\n",
    "\n",
    "    return Soma\n",
    "\n",
    "T = []\n",
    "\n",
    "# Coloca os dados do .csv na matriz T\n",
    "with open('problema1.csv', newline='') as csvfile:\n",
    "    spamreader = csv.reader(csvfile, delimiter=' ', quotechar='|')\n",
    "\n",
    "    def parseFloat(value):\n",
    "        return float(value)\n",
    "\n",
    "    pulaLinha1 = True\n",
    "\n",
    "    for row in spamreader:\n",
    "\n",
    "        # Pula a linha que tem as letras 'x' e 'y'\n",
    "        if pulaLinha1:\n",
    "            pulaLinha1 = False\n",
    "            continue\n",
    "\n",
    "        result = row[0].split(',')\n",
    "        T.append((float(result[0]), float(result[1])))\n",
    "\n",
    "print(T)\n",
    "\n",
    "# define o polinomio interpolador p(x)\n",
    "p= lambda x: interpolL(x,T) \n",
    "\n",
    "# Exibe o gráfico\n",
    "x=np.linspace(0,10,500)\n",
    "plt.figure(figsize=(4, 4))\n",
    "plt.plot(x,p(x), color='#FF4500', marker = '', linewidth=1.0)\n",
    "\n",
    "pointsX = []\n",
    "pointsY = []\n",
    "\n",
    "for point in T:\n",
    "    pointsX.append(point[0])\n",
    "    pointsY.append(point[1])\n",
    "\n",
    "plt.scatter(pointsX, pointsY)\n",
    "\n",
    "plt.grid()\n",
    "plt.show()\n",
    "\n"
   ]
  }
 ],
 "metadata": {
  "kernelspec": {
   "display_name": "Python 3",
   "language": "python",
   "name": "python3"
  },
  "language_info": {
   "codemirror_mode": {
    "name": "ipython",
    "version": 3
   },
   "file_extension": ".py",
   "mimetype": "text/x-python",
   "name": "python",
   "nbconvert_exporter": "python",
   "pygments_lexer": "ipython3",
   "version": "3.12.4"
  }
 },
 "nbformat": 4,
 "nbformat_minor": 2
}
