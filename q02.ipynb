{
 "cells": [
  {
   "cell_type": "code",
   "execution_count": 1,
   "metadata": {},
   "outputs": [
    {
     "name": "stdout",
     "output_type": "stream",
     "text": [
      "[-3.0000000000000004, 5.000000000000001, -0.0]\n"
     ]
    }
   ],
   "source": [
    "## Resolução de sistemas lineares triangular superior\n",
    "#import numpy as np\n",
    "\n",
    "\n",
    "#Xn = Bn/Ann\n",
    "#Xn-1 = (Bn-1 - An-1n*Xn)/An-1n-1 \n",
    "\n",
    "\n",
    "def solve_triangular_superior(U, y):\n",
    "    n = len(y)\n",
    "    x = [0] * n  # Inicializa x com zeros\n",
    "    for k in range(n-1, -1, -1):\n",
    "        s = 0\n",
    "        for j in range(k+1, n): \n",
    "            s += U[k][j] * x[j]\n",
    "        x[k] = (y[k] - s) / U[k][k] \n",
    "    \n",
    "    return x\n",
    "# 3 2 4 | 1\n",
    "# 0 1/3 2/3 | 5/3\n",
    "# 0 0 -8 | 0\n",
    "U = [[3, 2, 4], [0, 1/3, 2/3], [0, 0, -8]]\n",
    "y = [1, 5/3, 0]\n",
    "n = 2\n",
    "\n",
    "print(solve_triangular_superior(U, y))"
   ]
  }
 ],
 "metadata": {
  "kernelspec": {
   "display_name": "Python 3",
   "language": "python",
   "name": "python3"
  },
  "language_info": {
   "codemirror_mode": {
    "name": "ipython",
    "version": 3
   },
   "file_extension": ".py",
   "mimetype": "text/x-python",
   "name": "python",
   "nbconvert_exporter": "python",
   "pygments_lexer": "ipython3",
   "version": "3.12.4"
  }
 },
 "nbformat": 4,
 "nbformat_minor": 2
}
