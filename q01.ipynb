{
 "cells": [
  {
   "cell_type": "code",
   "execution_count": 3,
   "metadata": {
    "colab": {
     "base_uri": "https://localhost:8080/",
     "height": 495
    },
    "id": "uXE3snQH9elE",
    "outputId": "83d925e3-7169-4835-cee7-2ed5b8aa1b01"
   },
   "outputs": [
    {
     "name": "stdout",
     "output_type": "stream",
     "text": [
      "Digite os elementos da matriz A (linha por linha):\n",
      "Digite os elementos do vetor b:\n",
      "Matriz L:\n",
      "[[ 3.          0.          0.        ]\n",
      " [-1.          7.          0.        ]\n",
      " [ 0.          3.         -6.57142857]]\n",
      "Matriz U:\n",
      "[[ 1.          0.         -0.33333333]\n",
      " [ 0.          1.          0.52380952]\n",
      " [ 0.          0.          1.        ]]\n",
      "Solução do sistema Ax = b: [ 0.31884058 -0.07246377  0.95652174]\n"
     ]
    }
   ],
   "source": [
    "import numpy as np\n",
    "\n",
    "def lu_decomposition_crount(A):\n",
    "\n",
    "    n = A.shape[0]\n",
    "    L = np.zeros((n, n))\n",
    "    U = np.eye(n)  # Matriz U com 1s na diagonal principal\n",
    "\n",
    "    # Verifica se a matriz é singular\n",
    "    if np.linalg.det(A) == 0:\n",
    "        raise ValueError(\"A matriz fornecida é singular e não pode ser decomposta.\")\n",
    "\n",
    "    for i in range(n):\n",
    "        # Calcula os elementos de L\n",
    "        for j in range(i, n):\n",
    "            L[j, i] = A[j, i] - sum(L[j, k] * U[k, i] for k in range(i))\n",
    "\n",
    "        # Verifica se o elemento da diagonal principal de L é zero\n",
    "        if L[i, i] == 0:\n",
    "            raise ValueError(f\"Zero encontrado na diagonal principal em L[{i}, {i}]. Pivotamento é necessário.\")\n",
    "\n",
    "        # Calcula os elementos de U\n",
    "        for j in range(i + 1, n):\n",
    "            U[i, j] = (A[i, j] - sum(L[i, k] * U[k, j] for k in range(i))) / L[i, i]\n",
    "\n",
    "    return L, U\n",
    "\n",
    "def forward_substitution(L, b):\n",
    "\n",
    "    #Resolve o sistema L * y = b usando substituição direta.\n",
    "\n",
    "    n = L.shape[0]\n",
    "    y = np.zeros(n)\n",
    "    for i in range(n):\n",
    "        y[i] = (b[i] - sum(L[i, j] * y[j] for j in range(i))) / L[i, i]\n",
    "    return y\n",
    "\n",
    "def backward_substitution(U, y):\n",
    "\n",
    "   #Resolve o sistema U * x = y usando substituição reversa.\n",
    "\n",
    "\n",
    "    n = U.shape[0]\n",
    "    x = np.zeros(n)\n",
    "    for i in range(n - 1, -1, -1):\n",
    "        x[i] = y[i] - sum(U[i, j] * x[j] for j in range(i + 1, n))\n",
    "    return x\n",
    "\n",
    "def solve_linear_system(A, b):\n",
    "\n",
    "    #Resolve o sistema linear Ax = b utilizando a decomposição LU pelo método de Crout.\n",
    "\n",
    "    L, U = lu_decomposition_crount(A)\n",
    "    print(\"Matriz L:\")\n",
    "    print(L)\n",
    "    print(\"Matriz U:\")\n",
    "    print(U)\n",
    "    y = forward_substitution(L, b)\n",
    "    x = backward_substitution(U, y)\n",
    "    return x\n",
    "\n",
    "def generate_matrix_and_vector():\n",
    "\n",
    "    #Gera a matriz A (n x n) e o vetor b (n x 1) com entrada do usuário.\n",
    "\n",
    "    n = int(input(\"Digite a ordem da matriz A: \"))\n",
    "    print(\"Digite os elementos da matriz A (linha por linha):\")\n",
    "    A = np.zeros((n, n))\n",
    "    for i in range(n):\n",
    "        A[i] = [float(x) for x in input(f\"Linha {i + 1}: \").split()]\n",
    "\n",
    "    print(\"Digite os elementos do vetor b:\")\n",
    "    b = np.array([float(input(f\"b[{i + 1}]: \")) for i in range(n)])\n",
    "\n",
    "    return A, b\n",
    "\n",
    "# Exemplo de uso\n",
    "if __name__ == \"__main__\":\n",
    "    # Gera a matriz A e o vetor b\n",
    "    A, b = generate_matrix_and_vector()\n",
    "\n",
    "    # Solução do sistema\n",
    "    try:\n",
    "        x = solve_linear_system(A, b)\n",
    "        print(\"Solução do sistema Ax = b:\", x)\n",
    "    except ValueError as e:\n",
    "        print(f\"Erro: {e}\")\n",
    "\n"
   ]
  },
  {
   "cell_type": "code",
   "execution_count": null,
   "metadata": {},
   "outputs": [],
   "source": []
  }
 ],
 "metadata": {
  "colab": {
   "provenance": []
  },
  "kernelspec": {
   "display_name": "Python 3",
   "name": "python3"
  },
  "language_info": {
   "codemirror_mode": {
    "name": "ipython",
    "version": 3
   },
   "file_extension": ".py",
   "mimetype": "text/x-python",
   "name": "python",
   "nbconvert_exporter": "python",
   "pygments_lexer": "ipython3",
   "version": "3.12.4"
  }
 },
 "nbformat": 4,
 "nbformat_minor": 0
}
