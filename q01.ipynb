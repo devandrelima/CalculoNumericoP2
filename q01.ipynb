{
 "cells": [
  {
   "cell_type": "code",
   "execution_count": 1,
   "metadata": {
    "colab": {
     "base_uri": "https://localhost:8080/",
     "height": 495
    },
    "id": "uXE3snQH9elE",
    "outputId": "83d925e3-7169-4835-cee7-2ed5b8aa1b01"
   },
   "outputs": [
    {
     "name": "stdout",
     "output_type": "stream",
     "text": [
      "Digite os elementos da matriz A (linha por linha):\n"
     ]
    },
    {
     "ename": "ValueError",
     "evalue": "could not broadcast input array from shape (0,) into shape (4,)",
     "output_type": "error",
     "traceback": [
      "\u001b[1;31m---------------------------------------------------------------------------\u001b[0m",
      "\u001b[1;31mValueError\u001b[0m                                Traceback (most recent call last)",
      "Cell \u001b[1;32mIn[1], line 80\u001b[0m\n\u001b[0;32m     77\u001b[0m \u001b[38;5;66;03m# Exemplo de uso\u001b[39;00m\n\u001b[0;32m     78\u001b[0m \u001b[38;5;28;01mif\u001b[39;00m \u001b[38;5;18m__name__\u001b[39m \u001b[38;5;241m==\u001b[39m \u001b[38;5;124m\"\u001b[39m\u001b[38;5;124m__main__\u001b[39m\u001b[38;5;124m\"\u001b[39m:\n\u001b[0;32m     79\u001b[0m     \u001b[38;5;66;03m# Gera a matriz A e o vetor b\u001b[39;00m\n\u001b[1;32m---> 80\u001b[0m     A, b \u001b[38;5;241m=\u001b[39m \u001b[43mgenerate_matrix_and_vector\u001b[49m\u001b[43m(\u001b[49m\u001b[43m)\u001b[49m\n\u001b[0;32m     82\u001b[0m     \u001b[38;5;66;03m# Solução do sistema\u001b[39;00m\n\u001b[0;32m     83\u001b[0m     \u001b[38;5;28;01mtry\u001b[39;00m:\n",
      "Cell \u001b[1;32mIn[1], line 70\u001b[0m, in \u001b[0;36mgenerate_matrix_and_vector\u001b[1;34m()\u001b[0m\n\u001b[0;32m     68\u001b[0m A \u001b[38;5;241m=\u001b[39m np\u001b[38;5;241m.\u001b[39mzeros((n, n))\n\u001b[0;32m     69\u001b[0m \u001b[38;5;28;01mfor\u001b[39;00m i \u001b[38;5;129;01min\u001b[39;00m \u001b[38;5;28mrange\u001b[39m(n):\n\u001b[1;32m---> 70\u001b[0m     \u001b[43mA\u001b[49m\u001b[43m[\u001b[49m\u001b[43mi\u001b[49m\u001b[43m]\u001b[49m \u001b[38;5;241m=\u001b[39m [\u001b[38;5;28mfloat\u001b[39m(x) \u001b[38;5;28;01mfor\u001b[39;00m x \u001b[38;5;129;01min\u001b[39;00m \u001b[38;5;28minput\u001b[39m(\u001b[38;5;124mf\u001b[39m\u001b[38;5;124m\"\u001b[39m\u001b[38;5;124mLinha \u001b[39m\u001b[38;5;132;01m{\u001b[39;00mi\u001b[38;5;250m \u001b[39m\u001b[38;5;241m+\u001b[39m\u001b[38;5;250m \u001b[39m\u001b[38;5;241m1\u001b[39m\u001b[38;5;132;01m}\u001b[39;00m\u001b[38;5;124m: \u001b[39m\u001b[38;5;124m\"\u001b[39m)\u001b[38;5;241m.\u001b[39msplit()]\n\u001b[0;32m     72\u001b[0m \u001b[38;5;28mprint\u001b[39m(\u001b[38;5;124m\"\u001b[39m\u001b[38;5;124mDigite os elementos do vetor b:\u001b[39m\u001b[38;5;124m\"\u001b[39m)\n\u001b[0;32m     73\u001b[0m b \u001b[38;5;241m=\u001b[39m np\u001b[38;5;241m.\u001b[39marray([\u001b[38;5;28mfloat\u001b[39m(\u001b[38;5;28minput\u001b[39m(\u001b[38;5;124mf\u001b[39m\u001b[38;5;124m\"\u001b[39m\u001b[38;5;124mb[\u001b[39m\u001b[38;5;132;01m{\u001b[39;00mi\u001b[38;5;250m \u001b[39m\u001b[38;5;241m+\u001b[39m\u001b[38;5;250m \u001b[39m\u001b[38;5;241m1\u001b[39m\u001b[38;5;132;01m}\u001b[39;00m\u001b[38;5;124m]: \u001b[39m\u001b[38;5;124m\"\u001b[39m)) \u001b[38;5;28;01mfor\u001b[39;00m i \u001b[38;5;129;01min\u001b[39;00m \u001b[38;5;28mrange\u001b[39m(n)])\n",
      "\u001b[1;31mValueError\u001b[0m: could not broadcast input array from shape (0,) into shape (4,)"
     ]
    }
   ],
   "source": [
    "import numpy as np\n",
    "\n",
    "def lu_decomposition_crount(A):\n",
    "\n",
    "    n = A.shape[0]\n",
    "    L = np.zeros((n, n))\n",
    "    U = np.eye(n)  # Matriz U com 1s na diagonal principal\n",
    "\n",
    "    # Verifica se a matriz é singular\n",
    "    if np.linalg.det(A) == 0:\n",
    "        raise ValueError(\"A matriz fornecida é singular e não pode ser decomposta.\")\n",
    "\n",
    "    for i in range(n):\n",
    "        # Calcula os elementos de L\n",
    "        for j in range(i, n):\n",
    "            L[j, i] = A[j, i] - sum(L[j, k] * U[k, i] for k in range(i))\n",
    "\n",
    "        # Verifica se o elemento da diagonal principal de L é zero\n",
    "        if L[i, i] == 0:\n",
    "            raise ValueError(f\"Zero encontrado na diagonal principal em L[{i}, {i}]. Pivotamento é necessário.\")\n",
    "\n",
    "        # Calcula os elementos de U\n",
    "        for j in range(i + 1, n):\n",
    "            U[i, j] = (A[i, j] - sum(L[i, k] * U[k, j] for k in range(i))) / L[i, i]\n",
    "\n",
    "    return L, U\n",
    "\n",
    "def forward_substitution(L, b):\n",
    "\n",
    "    #Resolve o sistema L * y = b usando substituição direta.\n",
    "\n",
    "    n = L.shape[0]\n",
    "    y = np.zeros(n)\n",
    "    for i in range(n):\n",
    "        y[i] = (b[i] - sum(L[i, j] * y[j] for j in range(i))) / L[i, i]\n",
    "    return y\n",
    "\n",
    "def backward_substitution(U, y):\n",
    "\n",
    "   #Resolve o sistema U * x = y usando substituição reversa.\n",
    "\n",
    "\n",
    "    n = U.shape[0]\n",
    "    x = np.zeros(n)\n",
    "    for i in range(n - 1, -1, -1):\n",
    "        x[i] = y[i] - sum(U[i, j] * x[j] for j in range(i + 1, n))\n",
    "    return x\n",
    "\n",
    "def solve_linear_system(A, b):\n",
    "\n",
    "    #Resolve o sistema linear Ax = b utilizando a decomposição LU pelo método de Crout.\n",
    "\n",
    "    L, U = lu_decomposition_crount(A)\n",
    "    print(\"Matriz L:\")\n",
    "    print(L)\n",
    "    print(\"Matriz U:\")\n",
    "    print(U)\n",
    "    y = forward_substitution(L, b)\n",
    "    x = backward_substitution(U, y)\n",
    "    return x\n",
    "\n",
    "def generate_matrix_and_vector():\n",
    "\n",
    "    #Gera a matriz A (n x n) e o vetor b (n x 1) com entrada do usuário.\n",
    "\n",
    "    n = int(input(\"Digite a ordem da matriz A: \"))\n",
    "    print(\"Digite os elementos da matriz A (linha por linha):\")\n",
    "    A = np.zeros((n, n))\n",
    "    for i in range(n):\n",
    "        A[i] = [float(x) for x in input(f\"Linha {i + 1}: \").split()]\n",
    "\n",
    "    print(\"Digite os elementos do vetor b:\")\n",
    "    b = np.array([float(input(f\"b[{i + 1}]: \")) for i in range(n)])\n",
    "\n",
    "    return A, b\n",
    "\n",
    "# Exemplo de uso\n",
    "if __name__ == \"__main__\":\n",
    "    # Gera a matriz A e o vetor b\n",
    "    A, b = generate_matrix_and_vector()\n",
    "\n",
    "    # Solução do sistema\n",
    "    try:\n",
    "        x = solve_linear_system(A, b)\n",
    "        print(\"Solução do sistema Ax = b:\", x)\n",
    "    except ValueError as e:\n",
    "        print(f\"Erro: {e}\")\n",
    "\n"
   ]
  },
  {
   "cell_type": "code",
   "execution_count": null,
   "metadata": {},
   "outputs": [],
   "source": []
  }
 ],
 "metadata": {
  "colab": {
   "provenance": []
  },
  "kernelspec": {
   "display_name": "Python 3",
   "name": "python3"
  },
  "language_info": {
   "codemirror_mode": {
    "name": "ipython",
    "version": 3
   },
   "file_extension": ".py",
   "mimetype": "text/x-python",
   "name": "python",
   "nbconvert_exporter": "python",
   "pygments_lexer": "ipython3",
   "version": "3.12.4"
  }
 },
 "nbformat": 4,
 "nbformat_minor": 0
}
