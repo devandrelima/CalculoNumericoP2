{
 "cells": [
  {
   "cell_type": "code",
   "execution_count": 7,
   "metadata": {},
   "outputs": [
    {
     "name": "stdout",
     "output_type": "stream",
     "text": [
      "Solução do sistema: [np.float64(nan), np.float64(nan), np.float64(nan)]\n"
     ]
    },
    {
     "name": "stderr",
     "output_type": "stream",
     "text": [
      "C:\\Users\\limaa\\AppData\\Local\\Temp\\ipykernel_15032\\87818980.py:23: RuntimeWarning: invalid value encountered in scalar divide\n",
      "  fator = matriz[linha_atual, linha_pivo] / matriz[linha_pivo, linha_pivo]\n"
     ]
    }
   ],
   "source": [
    "import numpy as np\n",
    "\n",
    "def solve_triangular_superior(U, y):\n",
    "    n = len(y)\n",
    "    x = [0] * n  # Inicializa x com zeros\n",
    "    for k in range(n-1, -1, -1):\n",
    "        s = 0\n",
    "        for j in range(k+1, n): \n",
    "            s += U[k][j] * x[j]\n",
    "        x[k] = (y[k] - s) / U[k][k] \n",
    "    \n",
    "    return x\n",
    "\n",
    "def eliminacao_gauss(matriz, vetor):\n",
    "    n = len(vetor)\n",
    "    matriz = matriz.astype(float)\n",
    "    vetor = vetor.astype(float)\n",
    "\n",
    "    # Fase de eliminacao\n",
    "    for linha_pivo in range(n - 1):\n",
    "        for linha_atual in range(linha_pivo + 1, n):\n",
    "            # Calcula o multiplicador para zerar matriz[linha_atual, linha_pivo]\n",
    "            fator = matriz[linha_atual, linha_pivo] / matriz[linha_pivo, linha_pivo]\n",
    "            matriz[linha_atual, linha_pivo] = 0  # Zera o elemento abaixo do pivo\n",
    "\n",
    "            # Atualiza os elementos restantes da linha atual\n",
    "            matriz[linha_atual, linha_pivo + 1:] -= fator * matriz[linha_pivo, linha_pivo + 1:]\n",
    "            vetor[linha_atual] -= fator * vetor[linha_pivo]  # Atualiza o vetor de termos independentes\n",
    "\n",
    "    # Resolve o sistema triangular superior\n",
    "    solucao = solve_triangular_superior(matriz, vetor)\n",
    "\n",
    "    return solucao\n",
    "\n",
    "matriz = np.array([[0, 2, 4],\n",
    "                   [0, 0, 2/3],\n",
    "                   [0, 0, 0]])\n",
    "\n",
    "vetor = np.array([1, 5/3, 0])\n",
    "\n",
    "solucao = eliminacao_gauss(matriz, vetor)\n",
    "print(\"Solução do sistema:\", solucao)"
   ]
  }
 ],
 "metadata": {
  "kernelspec": {
   "display_name": "Python 3",
   "language": "python",
   "name": "python3"
  },
  "language_info": {
   "codemirror_mode": {
    "name": "ipython",
    "version": 3
   },
   "file_extension": ".py",
   "mimetype": "text/x-python",
   "name": "python",
   "nbconvert_exporter": "python",
   "pygments_lexer": "ipython3",
   "version": "3.12.4"
  }
 },
 "nbformat": 4,
 "nbformat_minor": 2
}
